{
 "cells": [
  {
   "cell_type": "markdown",
   "id": "a293f540",
   "metadata": {},
   "source": [
    "# **Project: Investigate a Dataset-No ShowAppointments**\n",
    "\n"
   ]
  },
  {
   "cell_type": "markdown",
   "id": "ddf97c3e",
   "metadata": {},
   "source": [
    "**Table of contents**\n",
    "\n",
    "Introduction\n",
    "\n",
    "Data Wrangling\n",
    "\n",
    "Exploratory Data Analysis\n",
    "\n",
    "Conclusion"
   ]
  },
  {
   "cell_type": "markdown",
   "id": "87a75559",
   "metadata": {},
   "source": [
    "**Introduction**\n",
    "\n",
    "**Dataset Description**\n",
    "\n",
    "The No-Show appointment dataset contains data of medical appointments in Brazil. The dataset is stored in a csv file  **'noshowappointment.csv'**. The dataset consists of 1 table with 110527 records and 14 columns. The columns in the dataset include:\n",
    "PatientID\n",
    "AppointmentId\n",
    "Gender\n",
    "ScheduledDay\n",
    "AppointmentDay\n",
    "Age\n",
    "Neighborhood\n",
    "Scholarship\n",
    "Hypertension\n",
    "Diabetes\n",
    "Alcoholism\n",
    "Handicap\n",
    "SMS_received\n",
    "No-show"
   ]
  },
  {
   "cell_type": "markdown",
   "id": "cc124003",
   "metadata": {},
   "source": [
    "**Question(s) for Analysis**\n",
    "\n",
    "1. What factors are important in predicting whether or not a patient will show up for their scheduled appointment?\n",
    "2. Does neighbourhood indicate if a patient will show up or not for an appointment?\n",
    "3. Do patients on scholarship tend to show up more for appointments than others?\n",
    "4. Are no-show appointment associated with a certain gender?"
   ]
  },
  {
   "cell_type": "markdown",
   "id": "51261773",
   "metadata": {},
   "source": [
    "Packages used to investigate the dataset."
   ]
  },
  {
   "cell_type": "code",
   "execution_count": 1,
   "id": "26921b95",
   "metadata": {},
   "outputs": [],
   "source": [
    "import numpy as np\n",
    "import pandas as pd\n",
    "import matplotlib.pyplot as plt\n",
    "\n",
    "%matplotlib inline\n",
    "\n",
    "import seaborn as sns"
   ]
  },
  {
   "cell_type": "markdown",
   "id": "4bdc910c",
   "metadata": {},
   "source": [
    "Data Wrangling"
   ]
  },
  {
   "cell_type": "code",
   "execution_count": 2,
   "id": "cc1d2ce0",
   "metadata": {},
   "outputs": [
    {
     "data": {
      "text/html": [
       "<div>\n",
       "<style scoped>\n",
       "    .dataframe tbody tr th:only-of-type {\n",
       "        vertical-align: middle;\n",
       "    }\n",
       "\n",
       "    .dataframe tbody tr th {\n",
       "        vertical-align: top;\n",
       "    }\n",
       "\n",
       "    .dataframe thead th {\n",
       "        text-align: right;\n",
       "    }\n",
       "</style>\n",
       "<table border=\"1\" class=\"dataframe\">\n",
       "  <thead>\n",
       "    <tr style=\"text-align: right;\">\n",
       "      <th></th>\n",
       "      <th>PatientId</th>\n",
       "      <th>AppointmentID</th>\n",
       "      <th>Gender</th>\n",
       "      <th>ScheduledDay</th>\n",
       "      <th>AppointmentDay</th>\n",
       "      <th>Age</th>\n",
       "      <th>Neighbourhood</th>\n",
       "      <th>Scholarship</th>\n",
       "      <th>Hipertension</th>\n",
       "      <th>Diabetes</th>\n",
       "      <th>Alcoholism</th>\n",
       "      <th>Handcap</th>\n",
       "      <th>SMS_received</th>\n",
       "      <th>No-show</th>\n",
       "    </tr>\n",
       "  </thead>\n",
       "  <tbody>\n",
       "    <tr>\n",
       "      <th>0</th>\n",
       "      <td>2.987250e+13</td>\n",
       "      <td>5642903</td>\n",
       "      <td>F</td>\n",
       "      <td>2016-04-29T18:38:08Z</td>\n",
       "      <td>2016-04-29T00:00:00Z</td>\n",
       "      <td>62</td>\n",
       "      <td>JARDIM DA PENHA</td>\n",
       "      <td>0</td>\n",
       "      <td>1</td>\n",
       "      <td>0</td>\n",
       "      <td>0</td>\n",
       "      <td>0</td>\n",
       "      <td>0</td>\n",
       "      <td>No</td>\n",
       "    </tr>\n",
       "    <tr>\n",
       "      <th>1</th>\n",
       "      <td>5.589978e+14</td>\n",
       "      <td>5642503</td>\n",
       "      <td>M</td>\n",
       "      <td>2016-04-29T16:08:27Z</td>\n",
       "      <td>2016-04-29T00:00:00Z</td>\n",
       "      <td>56</td>\n",
       "      <td>JARDIM DA PENHA</td>\n",
       "      <td>0</td>\n",
       "      <td>0</td>\n",
       "      <td>0</td>\n",
       "      <td>0</td>\n",
       "      <td>0</td>\n",
       "      <td>0</td>\n",
       "      <td>No</td>\n",
       "    </tr>\n",
       "    <tr>\n",
       "      <th>2</th>\n",
       "      <td>4.262962e+12</td>\n",
       "      <td>5642549</td>\n",
       "      <td>F</td>\n",
       "      <td>2016-04-29T16:19:04Z</td>\n",
       "      <td>2016-04-29T00:00:00Z</td>\n",
       "      <td>62</td>\n",
       "      <td>MATA DA PRAIA</td>\n",
       "      <td>0</td>\n",
       "      <td>0</td>\n",
       "      <td>0</td>\n",
       "      <td>0</td>\n",
       "      <td>0</td>\n",
       "      <td>0</td>\n",
       "      <td>No</td>\n",
       "    </tr>\n",
       "    <tr>\n",
       "      <th>3</th>\n",
       "      <td>8.679512e+11</td>\n",
       "      <td>5642828</td>\n",
       "      <td>F</td>\n",
       "      <td>2016-04-29T17:29:31Z</td>\n",
       "      <td>2016-04-29T00:00:00Z</td>\n",
       "      <td>8</td>\n",
       "      <td>PONTAL DE CAMBURI</td>\n",
       "      <td>0</td>\n",
       "      <td>0</td>\n",
       "      <td>0</td>\n",
       "      <td>0</td>\n",
       "      <td>0</td>\n",
       "      <td>0</td>\n",
       "      <td>No</td>\n",
       "    </tr>\n",
       "    <tr>\n",
       "      <th>4</th>\n",
       "      <td>8.841186e+12</td>\n",
       "      <td>5642494</td>\n",
       "      <td>F</td>\n",
       "      <td>2016-04-29T16:07:23Z</td>\n",
       "      <td>2016-04-29T00:00:00Z</td>\n",
       "      <td>56</td>\n",
       "      <td>JARDIM DA PENHA</td>\n",
       "      <td>0</td>\n",
       "      <td>1</td>\n",
       "      <td>1</td>\n",
       "      <td>0</td>\n",
       "      <td>0</td>\n",
       "      <td>0</td>\n",
       "      <td>No</td>\n",
       "    </tr>\n",
       "  </tbody>\n",
       "</table>\n",
       "</div>"
      ],
      "text/plain": [
       "      PatientId  AppointmentID Gender          ScheduledDay  \\\n",
       "0  2.987250e+13        5642903      F  2016-04-29T18:38:08Z   \n",
       "1  5.589978e+14        5642503      M  2016-04-29T16:08:27Z   \n",
       "2  4.262962e+12        5642549      F  2016-04-29T16:19:04Z   \n",
       "3  8.679512e+11        5642828      F  2016-04-29T17:29:31Z   \n",
       "4  8.841186e+12        5642494      F  2016-04-29T16:07:23Z   \n",
       "\n",
       "         AppointmentDay  Age      Neighbourhood  Scholarship  Hipertension  \\\n",
       "0  2016-04-29T00:00:00Z   62    JARDIM DA PENHA            0             1   \n",
       "1  2016-04-29T00:00:00Z   56    JARDIM DA PENHA            0             0   \n",
       "2  2016-04-29T00:00:00Z   62      MATA DA PRAIA            0             0   \n",
       "3  2016-04-29T00:00:00Z    8  PONTAL DE CAMBURI            0             0   \n",
       "4  2016-04-29T00:00:00Z   56    JARDIM DA PENHA            0             1   \n",
       "\n",
       "   Diabetes  Alcoholism  Handcap  SMS_received No-show  \n",
       "0         0           0        0             0      No  \n",
       "1         0           0        0             0      No  \n",
       "2         0           0        0             0      No  \n",
       "3         0           0        0             0      No  \n",
       "4         1           0        0             0      No  "
      ]
     },
     "execution_count": 2,
     "metadata": {},
     "output_type": "execute_result"
    }
   ],
   "source": [
    "df = pd.read_csv(r'C:\\Users\\Emy\\Downloads\\noshowappointments.csv', sep = ',')\n",
    "df.head()"
   ]
  },
  {
   "cell_type": "code",
   "execution_count": 3,
   "id": "516db4af",
   "metadata": {},
   "outputs": [
    {
     "name": "stdout",
     "output_type": "stream",
     "text": [
      "<class 'pandas.core.frame.DataFrame'>\n",
      "RangeIndex: 110527 entries, 0 to 110526\n",
      "Data columns (total 14 columns):\n",
      " #   Column          Non-Null Count   Dtype  \n",
      "---  ------          --------------   -----  \n",
      " 0   PatientId       110527 non-null  float64\n",
      " 1   AppointmentID   110527 non-null  int64  \n",
      " 2   Gender          110527 non-null  object \n",
      " 3   ScheduledDay    110527 non-null  object \n",
      " 4   AppointmentDay  110527 non-null  object \n",
      " 5   Age             110527 non-null  int64  \n",
      " 6   Neighbourhood   110527 non-null  object \n",
      " 7   Scholarship     110527 non-null  int64  \n",
      " 8   Hipertension    110527 non-null  int64  \n",
      " 9   Diabetes        110527 non-null  int64  \n",
      " 10  Alcoholism      110527 non-null  int64  \n",
      " 11  Handcap         110527 non-null  int64  \n",
      " 12  SMS_received    110527 non-null  int64  \n",
      " 13  No-show         110527 non-null  object \n",
      "dtypes: float64(1), int64(8), object(5)\n",
      "memory usage: 11.8+ MB\n"
     ]
    }
   ],
   "source": [
    "df.info()"
   ]
  },
  {
   "cell_type": "markdown",
   "id": "d582c73c",
   "metadata": {},
   "source": [
    "check for duplicates"
   ]
  },
  {
   "cell_type": "code",
   "execution_count": 4,
   "id": "9b343c76",
   "metadata": {},
   "outputs": [
    {
     "data": {
      "text/html": [
       "<div>\n",
       "<style scoped>\n",
       "    .dataframe tbody tr th:only-of-type {\n",
       "        vertical-align: middle;\n",
       "    }\n",
       "\n",
       "    .dataframe tbody tr th {\n",
       "        vertical-align: top;\n",
       "    }\n",
       "\n",
       "    .dataframe thead th {\n",
       "        text-align: right;\n",
       "    }\n",
       "</style>\n",
       "<table border=\"1\" class=\"dataframe\">\n",
       "  <thead>\n",
       "    <tr style=\"text-align: right;\">\n",
       "      <th></th>\n",
       "      <th>PatientId</th>\n",
       "      <th>AppointmentID</th>\n",
       "      <th>Gender</th>\n",
       "      <th>ScheduledDay</th>\n",
       "      <th>AppointmentDay</th>\n",
       "      <th>Age</th>\n",
       "      <th>Neighbourhood</th>\n",
       "      <th>Scholarship</th>\n",
       "      <th>Hipertension</th>\n",
       "      <th>Diabetes</th>\n",
       "      <th>Alcoholism</th>\n",
       "      <th>Handcap</th>\n",
       "      <th>SMS_received</th>\n",
       "      <th>No-show</th>\n",
       "    </tr>\n",
       "  </thead>\n",
       "  <tbody>\n",
       "  </tbody>\n",
       "</table>\n",
       "</div>"
      ],
      "text/plain": [
       "Empty DataFrame\n",
       "Columns: [PatientId, AppointmentID, Gender, ScheduledDay, AppointmentDay, Age, Neighbourhood, Scholarship, Hipertension, Diabetes, Alcoholism, Handcap, SMS_received, No-show]\n",
       "Index: []"
      ]
     },
     "execution_count": 4,
     "metadata": {},
     "output_type": "execute_result"
    }
   ],
   "source": [
    "df[df.duplicated()]"
   ]
  },
  {
   "cell_type": "markdown",
   "id": "0329787f",
   "metadata": {},
   "source": [
    "This means there are no duplicate rows."
   ]
  },
  {
   "cell_type": "markdown",
   "id": "2d83c7ce",
   "metadata": {},
   "source": [
    "checking for number of null values in the dataset."
   ]
  },
  {
   "cell_type": "code",
   "execution_count": 5,
   "id": "62d0f838",
   "metadata": {},
   "outputs": [
    {
     "data": {
      "text/plain": [
       "0"
      ]
     },
     "execution_count": 5,
     "metadata": {},
     "output_type": "execute_result"
    }
   ],
   "source": [
    "sum([True for idx, row  in df.iterrows() if any(row.isnull())])"
   ]
  },
  {
   "cell_type": "markdown",
   "id": "3c8f4559",
   "metadata": {},
   "source": [
    "Lets rename some columns"
   ]
  },
  {
   "cell_type": "code",
   "execution_count": 6,
   "id": "7f982a1a",
   "metadata": {},
   "outputs": [
    {
     "data": {
      "text/html": [
       "<div>\n",
       "<style scoped>\n",
       "    .dataframe tbody tr th:only-of-type {\n",
       "        vertical-align: middle;\n",
       "    }\n",
       "\n",
       "    .dataframe tbody tr th {\n",
       "        vertical-align: top;\n",
       "    }\n",
       "\n",
       "    .dataframe thead th {\n",
       "        text-align: right;\n",
       "    }\n",
       "</style>\n",
       "<table border=\"1\" class=\"dataframe\">\n",
       "  <thead>\n",
       "    <tr style=\"text-align: right;\">\n",
       "      <th></th>\n",
       "      <th>PatientId</th>\n",
       "      <th>AppointmentID</th>\n",
       "      <th>Gender</th>\n",
       "      <th>ScheduledDay</th>\n",
       "      <th>AppointmentDay</th>\n",
       "      <th>Age</th>\n",
       "      <th>Neighbourhood</th>\n",
       "      <th>Scholarship</th>\n",
       "      <th>Hipertension</th>\n",
       "      <th>Diabetes</th>\n",
       "      <th>Alcoholism</th>\n",
       "      <th>Handcap</th>\n",
       "      <th>SMS_received</th>\n",
       "      <th>NoShow</th>\n",
       "    </tr>\n",
       "  </thead>\n",
       "  <tbody>\n",
       "    <tr>\n",
       "      <th>0</th>\n",
       "      <td>2.987250e+13</td>\n",
       "      <td>5642903</td>\n",
       "      <td>F</td>\n",
       "      <td>2016-04-29T18:38:08Z</td>\n",
       "      <td>2016-04-29T00:00:00Z</td>\n",
       "      <td>62</td>\n",
       "      <td>JARDIM DA PENHA</td>\n",
       "      <td>0</td>\n",
       "      <td>1</td>\n",
       "      <td>0</td>\n",
       "      <td>0</td>\n",
       "      <td>0</td>\n",
       "      <td>0</td>\n",
       "      <td>No</td>\n",
       "    </tr>\n",
       "    <tr>\n",
       "      <th>1</th>\n",
       "      <td>5.589978e+14</td>\n",
       "      <td>5642503</td>\n",
       "      <td>M</td>\n",
       "      <td>2016-04-29T16:08:27Z</td>\n",
       "      <td>2016-04-29T00:00:00Z</td>\n",
       "      <td>56</td>\n",
       "      <td>JARDIM DA PENHA</td>\n",
       "      <td>0</td>\n",
       "      <td>0</td>\n",
       "      <td>0</td>\n",
       "      <td>0</td>\n",
       "      <td>0</td>\n",
       "      <td>0</td>\n",
       "      <td>No</td>\n",
       "    </tr>\n",
       "    <tr>\n",
       "      <th>2</th>\n",
       "      <td>4.262962e+12</td>\n",
       "      <td>5642549</td>\n",
       "      <td>F</td>\n",
       "      <td>2016-04-29T16:19:04Z</td>\n",
       "      <td>2016-04-29T00:00:00Z</td>\n",
       "      <td>62</td>\n",
       "      <td>MATA DA PRAIA</td>\n",
       "      <td>0</td>\n",
       "      <td>0</td>\n",
       "      <td>0</td>\n",
       "      <td>0</td>\n",
       "      <td>0</td>\n",
       "      <td>0</td>\n",
       "      <td>No</td>\n",
       "    </tr>\n",
       "    <tr>\n",
       "      <th>3</th>\n",
       "      <td>8.679512e+11</td>\n",
       "      <td>5642828</td>\n",
       "      <td>F</td>\n",
       "      <td>2016-04-29T17:29:31Z</td>\n",
       "      <td>2016-04-29T00:00:00Z</td>\n",
       "      <td>8</td>\n",
       "      <td>PONTAL DE CAMBURI</td>\n",
       "      <td>0</td>\n",
       "      <td>0</td>\n",
       "      <td>0</td>\n",
       "      <td>0</td>\n",
       "      <td>0</td>\n",
       "      <td>0</td>\n",
       "      <td>No</td>\n",
       "    </tr>\n",
       "    <tr>\n",
       "      <th>4</th>\n",
       "      <td>8.841186e+12</td>\n",
       "      <td>5642494</td>\n",
       "      <td>F</td>\n",
       "      <td>2016-04-29T16:07:23Z</td>\n",
       "      <td>2016-04-29T00:00:00Z</td>\n",
       "      <td>56</td>\n",
       "      <td>JARDIM DA PENHA</td>\n",
       "      <td>0</td>\n",
       "      <td>1</td>\n",
       "      <td>1</td>\n",
       "      <td>0</td>\n",
       "      <td>0</td>\n",
       "      <td>0</td>\n",
       "      <td>No</td>\n",
       "    </tr>\n",
       "  </tbody>\n",
       "</table>\n",
       "</div>"
      ],
      "text/plain": [
       "      PatientId  AppointmentID Gender          ScheduledDay  \\\n",
       "0  2.987250e+13        5642903      F  2016-04-29T18:38:08Z   \n",
       "1  5.589978e+14        5642503      M  2016-04-29T16:08:27Z   \n",
       "2  4.262962e+12        5642549      F  2016-04-29T16:19:04Z   \n",
       "3  8.679512e+11        5642828      F  2016-04-29T17:29:31Z   \n",
       "4  8.841186e+12        5642494      F  2016-04-29T16:07:23Z   \n",
       "\n",
       "         AppointmentDay  Age      Neighbourhood  Scholarship  Hipertension  \\\n",
       "0  2016-04-29T00:00:00Z   62    JARDIM DA PENHA            0             1   \n",
       "1  2016-04-29T00:00:00Z   56    JARDIM DA PENHA            0             0   \n",
       "2  2016-04-29T00:00:00Z   62      MATA DA PRAIA            0             0   \n",
       "3  2016-04-29T00:00:00Z    8  PONTAL DE CAMBURI            0             0   \n",
       "4  2016-04-29T00:00:00Z   56    JARDIM DA PENHA            0             1   \n",
       "\n",
       "   Diabetes  Alcoholism  Handcap  SMS_received NoShow  \n",
       "0         0           0        0             0     No  \n",
       "1         0           0        0             0     No  \n",
       "2         0           0        0             0     No  \n",
       "3         0           0        0             0     No  \n",
       "4         1           0        0             0     No  "
      ]
     },
     "execution_count": 6,
     "metadata": {},
     "output_type": "execute_result"
    }
   ],
   "source": [
    "df.rename(columns = {'No-show':'NoShow'}, inplace = True)\n",
    "df.head()"
   ]
  },
  {
   "cell_type": "markdown",
   "id": "422a4014",
   "metadata": {},
   "source": [
    "Data Exploration\n",
    "\n",
    "The next cell shows the number of patients that showed up for their appointments. Note that in the NoShow column, \"No\" represents those that showed up and \"Yes\" represents those that did not show up."
   ]
  },
  {
   "cell_type": "code",
   "execution_count": 7,
   "id": "4be676fc",
   "metadata": {},
   "outputs": [
    {
     "data": {
      "text/plain": [
       "PatientId         88208\n",
       "AppointmentID     88208\n",
       "Gender            88208\n",
       "ScheduledDay      88208\n",
       "AppointmentDay    88208\n",
       "Age               88208\n",
       "Neighbourhood     88208\n",
       "Scholarship       88208\n",
       "Hipertension      88208\n",
       "Diabetes          88208\n",
       "Alcoholism        88208\n",
       "Handcap           88208\n",
       "SMS_received      88208\n",
       "NoShow            88208\n",
       "dtype: int64"
      ]
     },
     "execution_count": 7,
     "metadata": {},
     "output_type": "execute_result"
    }
   ],
   "source": [
    "df_showup = df.query('NoShow == \"No\"')\n",
    "df_showup.count()"
   ]
  },
  {
   "cell_type": "markdown",
   "id": "6e35d1eb",
   "metadata": {},
   "source": [
    "The output shows that out of the 110527 patients, 88208 showed up for their appointments.\n",
    "\n",
    "Lets see the number of patients that did not show up."
   ]
  },
  {
   "cell_type": "code",
   "execution_count": 8,
   "id": "78cb3c69",
   "metadata": {},
   "outputs": [
    {
     "data": {
      "text/plain": [
       "PatientId         22319\n",
       "AppointmentID     22319\n",
       "Gender            22319\n",
       "ScheduledDay      22319\n",
       "AppointmentDay    22319\n",
       "Age               22319\n",
       "Neighbourhood     22319\n",
       "Scholarship       22319\n",
       "Hipertension      22319\n",
       "Diabetes          22319\n",
       "Alcoholism        22319\n",
       "Handcap           22319\n",
       "SMS_received      22319\n",
       "NoShow            22319\n",
       "dtype: int64"
      ]
     },
     "execution_count": 8,
     "metadata": {},
     "output_type": "execute_result"
    }
   ],
   "source": [
    "df_nshowup = df.query('NoShow == \"Yes\"')\n",
    "df_nshowup.count()"
   ]
  },
  {
   "cell_type": "markdown",
   "id": "819a66b4",
   "metadata": {},
   "source": [
    "From the above output, 22319 did not show up for their appointments. The histogram below is used to show number of patients that showed up and those that did not show up for thir appointments."
   ]
  },
  {
   "cell_type": "code",
   "execution_count": 9,
   "id": "a10dc55e",
   "metadata": {},
   "outputs": [
    {
     "data": {
      "image/png": "[encoded data removed]",
      "text/plain": [
       "<Figure size 432x288 with 1 Axes>"
      ]
     },
     "metadata": {
      "needs_background": "light"
     },
     "output_type": "display_data"
    }
   ],
   "source": [
    "plt.hist(df.NoShow)\n",
    "plt.title('Patients that showed up for their appointments')\n",
    "plt.ylabel('count')\n",
    "plt.show()"
   ]
  },
  {
   "cell_type": "markdown",
   "id": "9b33c91d",
   "metadata": {},
   "source": [
    "To check the number of patients that showed up from each neighbourhood."
   ]
  },
  {
   "cell_type": "code",
   "execution_count": 10,
   "id": "ec38887f",
   "metadata": {},
   "outputs": [
    {
     "name": "stdout",
     "output_type": "stream",
     "text": [
      "                index  NoShow\n",
      "0      JARDIM CAMBURI    6252\n",
      "1         MARIA ORTIZ    4586\n",
      "2         RESISTÊNCIA    3525\n",
      "3     JARDIM DA PENHA    3246\n",
      "4        SANTA MARTHA    2635\n",
      "..                ...     ...\n",
      "75  PONTAL DE CAMBURI      57\n",
      "76        ILHA DO BOI      32\n",
      "77      ILHA DO FRADE       8\n",
      "78          AEROPORTO       7\n",
      "79  PARQUE INDUSTRIAL       1\n",
      "\n",
      "[80 rows x 2 columns]\n"
     ]
    }
   ],
   "source": [
    "showup_count = df_showup.Neighbourhood.value_counts().reset_index(name ='NoShow')\n",
    "print(showup_count)"
   ]
  },
  {
   "cell_type": "markdown",
   "id": "ab11b9bc",
   "metadata": {},
   "source": [
    "Lets see the First 10 neighborhoods with the highest number of patients that showed up for their appointments."
   ]
  },
  {
   "cell_type": "code",
   "execution_count": 11,
   "id": "2776f7b1",
   "metadata": {},
   "outputs": [
    {
     "name": "stdout",
     "output_type": "stream",
     "text": [
      "             index  NoShow\n",
      "0   JARDIM CAMBURI    6252\n",
      "1      MARIA ORTIZ    4586\n",
      "2      RESISTÊNCIA    3525\n",
      "3  JARDIM DA PENHA    3246\n",
      "4     SANTA MARTHA    2635\n",
      "5           CENTRO    2631\n",
      "6          ITARARÉ    2591\n",
      "7       TABUAZEIRO    2559\n",
      "8    SANTO ANTÔNIO    2262\n",
      "9           BONFIM    2223\n"
     ]
    }
   ],
   "source": [
    "showup_first = showup_count.head(10)\n",
    "print(showup_first)"
   ]
  },
  {
   "cell_type": "code",
   "execution_count": 12,
   "id": "34c98fe3",
   "metadata": {},
   "outputs": [
    {
     "name": "stderr",
     "output_type": "stream",
     "text": [
      "C:\\Users\\Emy\\anaconda3\\lib\\site-packages\\pandas\\core\\frame.py:4441: SettingWithCopyWarning: \n",
      "A value is trying to be set on a copy of a slice from a DataFrame\n",
      "\n",
      "See the caveats in the documentation: https://pandas.pydata.org/pandas-docs/stable/user_guide/indexing.html#returning-a-view-versus-a-copy\n",
      "  return super().rename(\n"
     ]
    },
    {
     "data": {
      "text/html": [
       "<div>\n",
       "<style scoped>\n",
       "    .dataframe tbody tr th:only-of-type {\n",
       "        vertical-align: middle;\n",
       "    }\n",
       "\n",
       "    .dataframe tbody tr th {\n",
       "        vertical-align: top;\n",
       "    }\n",
       "\n",
       "    .dataframe thead th {\n",
       "        text-align: right;\n",
       "    }\n",
       "</style>\n",
       "<table border=\"1\" class=\"dataframe\">\n",
       "  <thead>\n",
       "    <tr style=\"text-align: right;\">\n",
       "      <th></th>\n",
       "      <th>Neighbourhood</th>\n",
       "      <th>NoShow</th>\n",
       "    </tr>\n",
       "  </thead>\n",
       "  <tbody>\n",
       "    <tr>\n",
       "      <th>0</th>\n",
       "      <td>JARDIM CAMBURI</td>\n",
       "      <td>6252</td>\n",
       "    </tr>\n",
       "    <tr>\n",
       "      <th>1</th>\n",
       "      <td>MARIA ORTIZ</td>\n",
       "      <td>4586</td>\n",
       "    </tr>\n",
       "    <tr>\n",
       "      <th>2</th>\n",
       "      <td>RESISTÊNCIA</td>\n",
       "      <td>3525</td>\n",
       "    </tr>\n",
       "  </tbody>\n",
       "</table>\n",
       "</div>"
      ],
      "text/plain": [
       "    Neighbourhood  NoShow\n",
       "0  JARDIM CAMBURI    6252\n",
       "1     MARIA ORTIZ    4586\n",
       "2     RESISTÊNCIA    3525"
      ]
     },
     "execution_count": 12,
     "metadata": {},
     "output_type": "execute_result"
    }
   ],
   "source": [
    "showup_first.rename(columns ={'index':'Neighbourhood'}, inplace = True)\n",
    "showup_first.head(3)"
   ]
  },
  {
   "cell_type": "code",
   "execution_count": 13,
   "id": "0ebcd11d",
   "metadata": {},
   "outputs": [
    {
     "data": {
      "image/png": "[encoded data removed]",
      "text/plain": [
       "<Figure size 432x288 with 1 Axes>"
      ]
     },
     "metadata": {
      "needs_background": "light"
     },
     "output_type": "display_data"
    }
   ],
   "source": [
    "plt.bar(showup_first.Neighbourhood, showup_first.NoShow)\n",
    "plt.xticks(rotation = 30, ha='right')\n",
    "plt.ylabel('count')\n",
    "plt.title('Neighbourhood per patients that showed up')\n",
    "plt.show()"
   ]
  },
  {
   "cell_type": "markdown",
   "id": "dd3f1fb2",
   "metadata": {},
   "source": [
    "From the above barchart, the hospital located at \"Jardim Camburi\" had the highest number of Patients showing up for their appointments followed by \"Maria Ortiz\". "
   ]
  },
  {
   "cell_type": "code",
   "execution_count": 14,
   "id": "e5bec947",
   "metadata": {},
   "outputs": [
    {
     "name": "stdout",
     "output_type": "stream",
     "text": [
      "                          index  NoShow\n",
      "0                JARDIM CAMBURI    1465\n",
      "1                   MARIA ORTIZ    1219\n",
      "2                       ITARARÉ     923\n",
      "3                   RESISTÊNCIA     906\n",
      "4                        CENTRO     703\n",
      "..                          ...     ...\n",
      "75            PONTAL DE CAMBURI      12\n",
      "76                  ILHA DO BOI       3\n",
      "77                ILHA DO FRADE       2\n",
      "78  ILHAS OCEÂNICAS DE TRINDADE       2\n",
      "79                    AEROPORTO       1\n",
      "\n",
      "[80 rows x 2 columns]\n"
     ]
    }
   ],
   "source": [
    "df_nshowup_count= df_nshowup.Neighbourhood.value_counts().reset_index(name ='NoShow')\n",
    "print(df_nshowup_count)"
   ]
  },
  {
   "cell_type": "code",
   "execution_count": 15,
   "id": "3a7216d3",
   "metadata": {},
   "outputs": [
    {
     "name": "stdout",
     "output_type": "stream",
     "text": [
      "               index  NoShow\n",
      "0     JARDIM CAMBURI    1465\n",
      "1        MARIA ORTIZ    1219\n",
      "2            ITARARÉ     923\n",
      "3        RESISTÊNCIA     906\n",
      "4             CENTRO     703\n",
      "5  JESUS DE NAZARETH     696\n",
      "6    JARDIM DA PENHA     631\n",
      "7          CARATOÍRA     591\n",
      "8         TABUAZEIRO     573\n",
      "9             BONFIM     550\n"
     ]
    }
   ],
   "source": [
    "nshowup_first = df_nshowup_count.head(10)\n",
    "print(nshowup_first)"
   ]
  },
  {
   "cell_type": "code",
   "execution_count": 16,
   "id": "7783d8cf",
   "metadata": {},
   "outputs": [
    {
     "name": "stderr",
     "output_type": "stream",
     "text": [
      "C:\\Users\\Emy\\anaconda3\\lib\\site-packages\\pandas\\core\\frame.py:4441: SettingWithCopyWarning: \n",
      "A value is trying to be set on a copy of a slice from a DataFrame\n",
      "\n",
      "See the caveats in the documentation: https://pandas.pydata.org/pandas-docs/stable/user_guide/indexing.html#returning-a-view-versus-a-copy\n",
      "  return super().rename(\n"
     ]
    },
    {
     "data": {
      "text/html": [
       "<div>\n",
       "<style scoped>\n",
       "    .dataframe tbody tr th:only-of-type {\n",
       "        vertical-align: middle;\n",
       "    }\n",
       "\n",
       "    .dataframe tbody tr th {\n",
       "        vertical-align: top;\n",
       "    }\n",
       "\n",
       "    .dataframe thead th {\n",
       "        text-align: right;\n",
       "    }\n",
       "</style>\n",
       "<table border=\"1\" class=\"dataframe\">\n",
       "  <thead>\n",
       "    <tr style=\"text-align: right;\">\n",
       "      <th></th>\n",
       "      <th>Neighbourhood</th>\n",
       "      <th>NoShow</th>\n",
       "    </tr>\n",
       "  </thead>\n",
       "  <tbody>\n",
       "    <tr>\n",
       "      <th>0</th>\n",
       "      <td>JARDIM CAMBURI</td>\n",
       "      <td>1465</td>\n",
       "    </tr>\n",
       "    <tr>\n",
       "      <th>1</th>\n",
       "      <td>MARIA ORTIZ</td>\n",
       "      <td>1219</td>\n",
       "    </tr>\n",
       "    <tr>\n",
       "      <th>2</th>\n",
       "      <td>ITARARÉ</td>\n",
       "      <td>923</td>\n",
       "    </tr>\n",
       "  </tbody>\n",
       "</table>\n",
       "</div>"
      ],
      "text/plain": [
       "    Neighbourhood  NoShow\n",
       "0  JARDIM CAMBURI    1465\n",
       "1     MARIA ORTIZ    1219\n",
       "2         ITARARÉ     923"
      ]
     },
     "execution_count": 16,
     "metadata": {},
     "output_type": "execute_result"
    }
   ],
   "source": [
    "nshowup_first.rename(columns ={'index':'Neighbourhood'}, inplace = True)\n",
    "nshowup_first.head(3)"
   ]
  },
  {
   "cell_type": "code",
   "execution_count": 17,
   "id": "2d769449",
   "metadata": {},
   "outputs": [
    {
     "data": {
      "image/png": "[encoded data removed]",
      "text/plain": [
       "<Figure size 432x288 with 1 Axes>"
      ]
     },
     "metadata": {
      "needs_background": "light"
     },
     "output_type": "display_data"
    }
   ],
   "source": [
    "plt.bar(nshowup_first.Neighbourhood, nshowup_first.NoShow)\n",
    "plt.xticks(rotation = 30, ha='right')\n",
    "plt.ylabel('count')\n",
    "plt.title('Neighbourhood per patients that did not show up')\n",
    "plt.show()"
   ]
  },
  {
   "cell_type": "markdown",
   "id": "2a774638",
   "metadata": {},
   "source": [
    "From the above chart, Jardim Camburi still has the highest number of patients that did not show up for their appointments, followed by Maria Ortiz, etc."
   ]
  },
  {
   "cell_type": "markdown",
   "id": "dd46b830",
   "metadata": {},
   "source": [
    "We need to find out how many patients that received SMS and how many of them showed up for their appointments."
   ]
  },
  {
   "cell_type": "code",
   "execution_count": 18,
   "id": "5d47b5ad",
   "metadata": {},
   "outputs": [
    {
     "name": "stdout",
     "output_type": "stream",
     "text": [
      "        SMS_received NoShow\n",
      "11                 1    Yes\n",
      "15                 1     No\n",
      "18                 1     No\n",
      "22                 1    Yes\n",
      "25                 1     No\n",
      "...              ...    ...\n",
      "110522             1     No\n",
      "110523             1     No\n",
      "110524             1     No\n",
      "110525             1     No\n",
      "110526             1     No\n",
      "\n",
      "[35482 rows x 2 columns]\n"
     ]
    }
   ],
   "source": [
    "df_sms= df.loc[df['SMS_received'].isin([1]),['SMS_received','NoShow']]\n",
    "print(df_sms)"
   ]
  },
  {
   "cell_type": "markdown",
   "id": "40102772",
   "metadata": {},
   "source": [
    "From the above output, we see that a total of 35,482 patients received SMS out of 110527 patients."
   ]
  },
  {
   "cell_type": "code",
   "execution_count": 19,
   "id": "d34aa872",
   "metadata": {},
   "outputs": [],
   "source": [
    "def barplot(x, hue, data):\n",
    "    sns.countplot(x='SMS_received', hue='NoShow' , data=df_sms ).set_title('SMS_received per number that showed up')"
   ]
  },
  {
   "cell_type": "code",
   "execution_count": 20,
   "id": "ed7a6df2",
   "metadata": {},
   "outputs": [
    {
     "data": {
      "image/png": "[encoded data removed]",
      "text/plain": [
       "<Figure size 432x288 with 1 Axes>"
      ]
     },
     "metadata": {
      "needs_background": "light"
     },
     "output_type": "display_data"
    }
   ],
   "source": [
    "barplot('SMS_received','NoShow', df_sms)"
   ]
  },
  {
   "cell_type": "markdown",
   "id": "f765f1c8",
   "metadata": {},
   "source": [
    "From the above chart, it can be deduced that out of the 35,482 patients that received SMS, about 25000 showed up for their appointments while about 10000 did not show up."
   ]
  },
  {
   "cell_type": "markdown",
   "id": "4aeb0ef2",
   "metadata": {},
   "source": [
    "Next, we check the number of patients on scholarship."
   ]
  },
  {
   "cell_type": "code",
   "execution_count": 21,
   "id": "07de1d55",
   "metadata": {},
   "outputs": [
    {
     "name": "stdout",
     "output_type": "stream",
     "text": [
      "        Scholarship NoShow\n",
      "12                1     No\n",
      "17                1    Yes\n",
      "18                1     No\n",
      "31                1    Yes\n",
      "33                1     No\n",
      "...             ...    ...\n",
      "110423            1     No\n",
      "110426            1     No\n",
      "110473            1     No\n",
      "110479            1    Yes\n",
      "110482            1    Yes\n",
      "\n",
      "[10861 rows x 2 columns]\n"
     ]
    }
   ],
   "source": [
    "df_scholarship=df.loc[df['Scholarship'].isin([1]),['Scholarship','NoShow']]\n",
    "print(df_scholarship)"
   ]
  },
  {
   "cell_type": "markdown",
   "id": "cfd0b11e",
   "metadata": {},
   "source": [
    "From the above output, 10,861 patients are on scholarship. Lets see how many patients on scholarship that showed up for their appointments. "
   ]
  },
  {
   "cell_type": "code",
   "execution_count": 22,
   "id": "88531cee",
   "metadata": {},
   "outputs": [],
   "source": [
    "def barplot_scholarship(x,hue,data):\n",
    "    sns.countplot(x='Scholarship', hue='NoShow' , data=df_scholarship).set_title('Scholarship patients')"
   ]
  },
  {
   "cell_type": "code",
   "execution_count": 23,
   "id": "e628187f",
   "metadata": {},
   "outputs": [
    {
     "data": {
      "image/png": "[encoded data removed]",
      "text/plain": [
       "<Figure size 432x288 with 1 Axes>"
      ]
     },
     "metadata": {
      "needs_background": "light"
     },
     "output_type": "display_data"
    }
   ],
   "source": [
    "barplot_scholarship('Scholarship', 'NoShow', df_scholarship)"
   ]
  },
  {
   "cell_type": "markdown",
   "id": "f773c85e",
   "metadata": {},
   "source": [
    "From the barchart above, it can be seen that out of the 10,861 patients that are on scholarship, about 9000 showed up for their appointment."
   ]
  },
  {
   "cell_type": "markdown",
   "id": "d628f0e3",
   "metadata": {},
   "source": [
    "Let us look at the patients that are not on scholarship and the number that showed up for their appointments."
   ]
  },
  {
   "cell_type": "code",
   "execution_count": 24,
   "id": "6d2d7910",
   "metadata": {},
   "outputs": [
    {
     "name": "stdout",
     "output_type": "stream",
     "text": [
      "        Scholarship NoShow\n",
      "0                 0     No\n",
      "1                 0     No\n",
      "2                 0     No\n",
      "3                 0     No\n",
      "4                 0     No\n",
      "...             ...    ...\n",
      "110522            0     No\n",
      "110523            0     No\n",
      "110524            0     No\n",
      "110525            0     No\n",
      "110526            0     No\n",
      "\n",
      "[99666 rows x 2 columns]\n"
     ]
    }
   ],
   "source": [
    "df_nscholarship=df.loc[df['Scholarship'].isin([0]),['Scholarship','NoShow']]\n",
    "print(df_nscholarship)"
   ]
  },
  {
   "cell_type": "markdown",
   "id": "c1a9bb88",
   "metadata": {},
   "source": [
    "From the output above 99666 patients are not on scholarship."
   ]
  },
  {
   "cell_type": "code",
   "execution_count": 25,
   "id": "74a3354f",
   "metadata": {},
   "outputs": [],
   "source": [
    "def barplot_nscholarship(x,hue,data):\n",
    "    sns.countplot(x='Scholarship', hue='NoShow' , data=df_nscholarship).set_title('Non scholarship patients')"
   ]
  },
  {
   "cell_type": "code",
   "execution_count": 26,
   "id": "e2bf3877",
   "metadata": {},
   "outputs": [
    {
     "data": {
      "image/png": "[encoded data removed]",
      "text/plain": [
       "<Figure size 432x288 with 1 Axes>"
      ]
     },
     "metadata": {
      "needs_background": "light"
     },
     "output_type": "display_data"
    }
   ],
   "source": [
    "barplot_nscholarship('Scholarship', 'NoShow', df_nscholarship)\n"
   ]
  },
  {
   "cell_type": "markdown",
   "id": "4bfbf756",
   "metadata": {},
   "source": [
    "Now lets consider the gender of the patiets. Do male patients show up for their appointments more than their female counterparts? The next chart will answer this question."
   ]
  },
  {
   "cell_type": "code",
   "execution_count": 27,
   "id": "dfd1bcb7",
   "metadata": {},
   "outputs": [
    {
     "name": "stdout",
     "output_type": "stream",
     "text": [
      "       Gender NoShow\n",
      "0           F     No\n",
      "2           F     No\n",
      "3           F     No\n",
      "4           F     No\n",
      "5           F     No\n",
      "...       ...    ...\n",
      "110522      F     No\n",
      "110523      F     No\n",
      "110524      F     No\n",
      "110525      F     No\n",
      "110526      F     No\n",
      "\n",
      "[71840 rows x 2 columns]\n"
     ]
    }
   ],
   "source": [
    "df_gender_Female=df.loc[df['Gender'].isin(['F']),['Gender','NoShow']]\n",
    "print(df_gender_Female)"
   ]
  },
  {
   "cell_type": "code",
   "execution_count": 28,
   "id": "5378112f",
   "metadata": {},
   "outputs": [
    {
     "name": "stdout",
     "output_type": "stream",
     "text": [
      "       Gender NoShow\n",
      "1           M     No\n",
      "11          M    Yes\n",
      "13          M     No\n",
      "16          M     No\n",
      "22          M    Yes\n",
      "...       ...    ...\n",
      "110501      M     No\n",
      "110506      M     No\n",
      "110509      M     No\n",
      "110513      M     No\n",
      "110515      M    Yes\n",
      "\n",
      "[38687 rows x 2 columns]\n"
     ]
    }
   ],
   "source": [
    "df_gender_Male=df.loc[df['Gender'].isin(['M']),['Gender','NoShow']]\n",
    "print(df_gender_Male)"
   ]
  },
  {
   "cell_type": "markdown",
   "id": "7662a1af",
   "metadata": {},
   "source": [
    "Out of the 110527 patients, 71840 were female and 38687 were male."
   ]
  },
  {
   "cell_type": "markdown",
   "id": "887ed8ad",
   "metadata": {},
   "source": [
    "The next chart show the number of patients that showed up for their appointments according to their gender."
   ]
  },
  {
   "cell_type": "code",
   "execution_count": 29,
   "id": "08609d70",
   "metadata": {},
   "outputs": [],
   "source": [
    "def barplot_gender(x,hue,data):\n",
    "    sns.countplot(x='NoShow', hue='Gender' , data=df).set_title('Gender of patients that showed up')"
   ]
  },
  {
   "cell_type": "code",
   "execution_count": 30,
   "id": "e4c6232b",
   "metadata": {},
   "outputs": [
    {
     "data": {
      "image/png": "[encoded data removed]",
      "text/plain": [
       "<Figure size 432x288 with 1 Axes>"
      ]
     },
     "metadata": {
      "needs_background": "light"
     },
     "output_type": "display_data"
    }
   ],
   "source": [
    "barplot_gender('NoShow', 'Gender', df)"
   ]
  },
  {
   "cell_type": "markdown",
   "id": "03ce53b1",
   "metadata": {},
   "source": [
    "From the above chart, more than 50000 female patients show up for their appointments out of 71840 which is the total population of female patients. About 30000 male patients showed up for their appointments out of 38687 which is the total male population in the dataset. "
   ]
  },
  {
   "cell_type": "code",
   "execution_count": 37,
   "id": "53103120",
   "metadata": {},
   "outputs": [
    {
     "data": {
      "image/png": "[encoded data removed]",
      "text/plain": [
       "<Figure size 432x288 with 1 Axes>"
      ]
     },
     "metadata": {
      "needs_background": "light"
     },
     "output_type": "display_data"
    }
   ],
   "source": [
    "dist = sns.histplot(df.Age).set_title('Age distribution')\n",
    "\n"
   ]
  },
  {
   "cell_type": "markdown",
   "id": "e739d59e",
   "metadata": {},
   "source": [
    "The above chart shows the distributuon of the Age of patients in the dataset. Here, it can be seen that majority of the patients were aged between 0 and 60 years."
   ]
  },
  {
   "cell_type": "code",
   "execution_count": null,
   "id": "796f6645",
   "metadata": {},
   "outputs": [],
   "source": []
  },
  {
   "cell_type": "code",
   "execution_count": null,
   "id": "a6b9b966",
   "metadata": {},
   "outputs": [],
   "source": []
  },
  {
   "cell_type": "markdown",
   "id": "529bce21",
   "metadata": {},
   "source": [
    "The 'Non scholarship patients' chart shows that out of the 99666 patients that are not on scholarship, about 80000 showed up for their appointments while about 19000 did not show up for their appointments."
   ]
  },
  {
   "cell_type": "markdown",
   "id": "d6eeba67",
   "metadata": {},
   "source": [
    "**Conclusion**\n",
    "\n",
    "After analyzing the No-Show appointment datase, it can be discovered that patients show up for appointments at Jardim Camburi and Maria Ortiz more than other neighborhoods.To answer the first question in the analysis section, Neighborhood, SMS_received  are good indicators in predicting whether a patient will show up for appointments or not.\n",
    "\n",
    "To answer question 2, we can see from the \"Neighborhood per patients that showed up\" chart that more patients showed up for appointments at Jardim Camburi and Maria Ortiz than other neighborhoods, but neighbourhood alone cannot be used to predict if patients will show up or not because patients who received SMS tend to show up more than those who did not. \n",
    "\n",
    "To answer question 3, comparing the 'Scholarship patients' and the 'Non scholarship patients' chart, Scholarship does not really predict if a patient will show up for an appointment or not.\n",
    "\n",
    "To answer question 4, looking at the 'Gender of patients that showed up chart' the proportion of male patients that showed up for their appointments tends to be slightly higher compared to that of the females."
   ]
  },
  {
   "cell_type": "markdown",
   "id": "0cbc7ab0",
   "metadata": {},
   "source": [
    "**Limitation**\n",
    "\n",
    "This analysis is only limited to medical appointments in Brazil. The dataset provided does not include data about the address of the patients, their occupation or religion."
   ]
  },
  {
   "cell_type": "markdown",
   "id": "3dc2763a",
   "metadata": {},
   "source": [
    "\n",
    "\n"
   ]
  },
  {
   "cell_type": "markdown",
   "id": "7a249188",
   "metadata": {},
   "source": [
    "**List of websites and books used for this project**\n",
    "\n",
    "stackoverflow.com\n",
    "towardsdatascience.com\n",
    "www.statology.org\n",
    "seaborn.pydata.org\n",
    "www.pythoncharts.com\n",
    "\n",
    "Books\n",
    "Tutorials Point\n",
    "Python Data Analytics "
   ]
  },
  {
   "cell_type": "code",
   "execution_count": null,
   "id": "8abd1116",
   "metadata": {},
   "outputs": [],
   "source": []
  }
 ],
 "metadata": {
  "kernelspec": {
   "display_name": "Python 3 (ipykernel)",
   "language": "python",
   "name": "python3"
  },
  "language_info": {
   "codemirror_mode": {
    "name": "ipython",
    "version": 3
   },
   "file_extension": ".py",
   "mimetype": "text/x-python",
   "name": "python",
   "nbconvert_exporter": "python",
   "pygments_lexer": "ipython3",
   "version": "3.9.12"
  }
 },
 "nbformat": 4,
 "nbformat_minor": 5
}
